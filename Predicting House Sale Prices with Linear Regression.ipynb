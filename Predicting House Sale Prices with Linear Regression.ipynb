{
 "cells": [
  {
   "cell_type": "markdown",
   "metadata": {
    "collapsed": true
   },
   "source": [
    "# Predicting House Sale Prices with Linear Regression\n",
    "\n",
    "## Introduction\n",
    "\n",
    "We will start by writing a draft of 3 functions that we will update along the way.\n",
    "The functions are:\n",
    "1. transform_features: to do feature engineering.\n",
    "2. select_features: to allow us to experiment with different feature combinations.\n",
    "3. train_and_test(): to quickly train and test different iterations of the model."
   ]
  },
  {
   "cell_type": "code",
   "execution_count": 98,
   "metadata": {
    "collapsed": true
   },
   "outputs": [],
   "source": [
    "import pandas as pd\n",
    "import numpy as np\n",
    "import matplotlib.pyplot as plt\n",
    "from sklearn import linear_model\n",
    "from sklearn.metrics import mean_squared_error\n",
    "\n",
    "df = pd.read_csv('AmesHousing.tsv', sep='\\t')"
   ]
  },
  {
   "cell_type": "code",
   "execution_count": 99,
   "metadata": {
    "collapsed": false
   },
   "outputs": [],
   "source": [
    "def transform_features(df):\n",
    "    return df"
   ]
  },
  {
   "cell_type": "code",
   "execution_count": 100,
   "metadata": {
    "collapsed": true
   },
   "outputs": [],
   "source": [
    "def select_features(df):\n",
    "    return df[['Gr Liv Area', 'SalePrice']]"
   ]
  },
  {
   "cell_type": "code",
   "execution_count": 101,
   "metadata": {
    "collapsed": true
   },
   "outputs": [],
   "source": [
    "def train_and_test(df):\n",
    "    train = df[:1460]\n",
    "    test = df[1460:]\n",
    "    \n",
    "    numeric_train = train.select_dtypes(include=['float', 'integer'])\n",
    "    numeric_test = test.select_dtypes(include=['float', 'integer'])\n",
    "    \n",
    "    features = numeric_train.columns.drop('SalePrice')\n",
    "    target = 'SalePrice'\n",
    "    lr = linear_model.LinearRegression()\n",
    "    lr.fit(train[features], train[target])\n",
    "    predictions = lr.predict(test[features])\n",
    "    mse = mean_squared_error(test[target], predictions)\n",
    "    rmse = np.sqrt(mse)\n",
    "    \n",
    "    return rmse\n",
    "    "
   ]
  },
  {
   "cell_type": "code",
   "execution_count": 102,
   "metadata": {
    "collapsed": false
   },
   "outputs": [
    {
     "data": {
      "text/plain": [
       "57088.25161263909"
      ]
     },
     "execution_count": 102,
     "metadata": {},
     "output_type": "execute_result"
    }
   ],
   "source": [
    "transformed_df = transform_features(df)\n",
    "filtered_df = select_features(transformed_df)\n",
    "rmse = train_and_test(filtered_df)\n",
    "\n",
    "rmse"
   ]
  },
  {
   "cell_type": "markdown",
   "metadata": {},
   "source": [
    "## Feature Engineering\n",
    "\n",
    "Next we will remove features with more than 5% missing values, and transform other features into proper format.\n",
    "\n",
    "Let's start by removing features with more than 5% missing values:"
   ]
  },
  {
   "cell_type": "code",
   "execution_count": 103,
   "metadata": {
    "collapsed": false,
    "scrolled": true
   },
   "outputs": [
    {
     "name": "stdout",
     "output_type": "stream",
     "text": [
      "<class 'pandas.core.frame.DataFrame'>\n",
      "RangeIndex: 2930 entries, 0 to 2929\n",
      "Data columns (total 71 columns):\n",
      "Order              2930 non-null int64\n",
      "PID                2930 non-null int64\n",
      "MS SubClass        2930 non-null int64\n",
      "MS Zoning          2930 non-null object\n",
      "Lot Area           2930 non-null int64\n",
      "Street             2930 non-null object\n",
      "Lot Shape          2930 non-null object\n",
      "Land Contour       2930 non-null object\n",
      "Utilities          2930 non-null object\n",
      "Lot Config         2930 non-null object\n",
      "Land Slope         2930 non-null object\n",
      "Neighborhood       2930 non-null object\n",
      "Condition 1        2930 non-null object\n",
      "Condition 2        2930 non-null object\n",
      "Bldg Type          2930 non-null object\n",
      "House Style        2930 non-null object\n",
      "Overall Qual       2930 non-null int64\n",
      "Overall Cond       2930 non-null int64\n",
      "Year Built         2930 non-null int64\n",
      "Year Remod/Add     2930 non-null int64\n",
      "Roof Style         2930 non-null object\n",
      "Roof Matl          2930 non-null object\n",
      "Exterior 1st       2930 non-null object\n",
      "Exterior 2nd       2930 non-null object\n",
      "Mas Vnr Type       2907 non-null object\n",
      "Mas Vnr Area       2907 non-null float64\n",
      "Exter Qual         2930 non-null object\n",
      "Exter Cond         2930 non-null object\n",
      "Foundation         2930 non-null object\n",
      "Bsmt Qual          2850 non-null object\n",
      "Bsmt Cond          2850 non-null object\n",
      "Bsmt Exposure      2847 non-null object\n",
      "BsmtFin Type 1     2850 non-null object\n",
      "BsmtFin SF 1       2929 non-null float64\n",
      "BsmtFin Type 2     2849 non-null object\n",
      "BsmtFin SF 2       2929 non-null float64\n",
      "Bsmt Unf SF        2929 non-null float64\n",
      "Total Bsmt SF      2929 non-null float64\n",
      "Heating            2930 non-null object\n",
      "Heating QC         2930 non-null object\n",
      "Central Air        2930 non-null object\n",
      "Electrical         2929 non-null object\n",
      "1st Flr SF         2930 non-null int64\n",
      "2nd Flr SF         2930 non-null int64\n",
      "Low Qual Fin SF    2930 non-null int64\n",
      "Gr Liv Area        2930 non-null int64\n",
      "Bsmt Full Bath     2928 non-null float64\n",
      "Bsmt Half Bath     2928 non-null float64\n",
      "Full Bath          2930 non-null int64\n",
      "Half Bath          2930 non-null int64\n",
      "Bedroom AbvGr      2930 non-null int64\n",
      "Kitchen AbvGr      2930 non-null int64\n",
      "Kitchen Qual       2930 non-null object\n",
      "TotRms AbvGrd      2930 non-null int64\n",
      "Functional         2930 non-null object\n",
      "Fireplaces         2930 non-null int64\n",
      "Garage Cars        2929 non-null float64\n",
      "Garage Area        2929 non-null float64\n",
      "Paved Drive        2930 non-null object\n",
      "Wood Deck SF       2930 non-null int64\n",
      "Open Porch SF      2930 non-null int64\n",
      "Enclosed Porch     2930 non-null int64\n",
      "3Ssn Porch         2930 non-null int64\n",
      "Screen Porch       2930 non-null int64\n",
      "Pool Area          2930 non-null int64\n",
      "Misc Val           2930 non-null int64\n",
      "Mo Sold            2930 non-null int64\n",
      "Yr Sold            2930 non-null int64\n",
      "Sale Type          2930 non-null object\n",
      "Sale Condition     2930 non-null object\n",
      "SalePrice          2930 non-null int64\n",
      "dtypes: float64(9), int64(28), object(34)\n",
      "memory usage: 1.6+ MB\n"
     ]
    }
   ],
   "source": [
    "num_missing = df.isnull().sum()\n",
    "missing_cols = num_missing[num_missing > len(df)*0.05]\n",
    "df = df.drop(missing_cols.index, axis=1)\n",
    "df.info()"
   ]
  },
  {
   "cell_type": "markdown",
   "metadata": {},
   "source": [
    "For the remaining numerical columns, we will fill the missing values using the most popular value for that column."
   ]
  },
  {
   "cell_type": "code",
   "execution_count": 104,
   "metadata": {
    "collapsed": false,
    "scrolled": true
   },
   "outputs": [
    {
     "data": {
      "text/plain": [
       "Mas Vnr Area      23\n",
       "BsmtFin SF 1       1\n",
       "BsmtFin SF 2       1\n",
       "Bsmt Unf SF        1\n",
       "Total Bsmt SF      1\n",
       "Bsmt Full Bath     2\n",
       "Bsmt Half Bath     2\n",
       "Garage Cars        1\n",
       "Garage Area        1\n",
       "dtype: int64"
      ]
     },
     "execution_count": 104,
     "metadata": {},
     "output_type": "execute_result"
    }
   ],
   "source": [
    "num_missing = df.select_dtypes(include=['float', 'int']).isnull().sum()\n",
    "cols_to_fix = num_missing[num_missing > 0]\n",
    "cols_to_fix"
   ]
  },
  {
   "cell_type": "code",
   "execution_count": 105,
   "metadata": {
    "collapsed": false
   },
   "outputs": [
    {
     "data": {
      "text/plain": [
       "{'Bsmt Full Bath': 0.0,\n",
       " 'Bsmt Half Bath': 0.0,\n",
       " 'Bsmt Unf SF': 0.0,\n",
       " 'BsmtFin SF 1': 0.0,\n",
       " 'BsmtFin SF 2': 0.0,\n",
       " 'Garage Area': 0.0,\n",
       " 'Garage Cars': 2.0,\n",
       " 'Mas Vnr Area': 0.0,\n",
       " 'Total Bsmt SF': 0.0}"
      ]
     },
     "execution_count": 105,
     "metadata": {},
     "output_type": "execute_result"
    }
   ],
   "source": [
    "mode_values_dict = df[cols_to_fix.index].mode().to_dict(orient='records')[0]\n",
    "mode_values_dict"
   ]
  },
  {
   "cell_type": "code",
   "execution_count": 106,
   "metadata": {
    "collapsed": false
   },
   "outputs": [
    {
     "data": {
      "text/plain": [
       "0"
      ]
     },
     "execution_count": 106,
     "metadata": {},
     "output_type": "execute_result"
    }
   ],
   "source": [
    "df = df.fillna(mode_values_dict)\n",
    "#verifiy that all numeric columns contain zero missing values\n",
    "num_missing.isnull().sum()"
   ]
  },
  {
   "cell_type": "markdown",
   "metadata": {},
   "source": [
    "For now, we will also drop text columns with any missing values."
   ]
  },
  {
   "cell_type": "code",
   "execution_count": 107,
   "metadata": {
    "collapsed": false
   },
   "outputs": [
    {
     "name": "stdout",
     "output_type": "stream",
     "text": [
      "<class 'pandas.core.frame.DataFrame'>\n",
      "RangeIndex: 2930 entries, 0 to 2929\n",
      "Data columns (total 64 columns):\n",
      "Order              2930 non-null int64\n",
      "PID                2930 non-null int64\n",
      "MS SubClass        2930 non-null int64\n",
      "MS Zoning          2930 non-null object\n",
      "Lot Area           2930 non-null int64\n",
      "Street             2930 non-null object\n",
      "Lot Shape          2930 non-null object\n",
      "Land Contour       2930 non-null object\n",
      "Utilities          2930 non-null object\n",
      "Lot Config         2930 non-null object\n",
      "Land Slope         2930 non-null object\n",
      "Neighborhood       2930 non-null object\n",
      "Condition 1        2930 non-null object\n",
      "Condition 2        2930 non-null object\n",
      "Bldg Type          2930 non-null object\n",
      "House Style        2930 non-null object\n",
      "Overall Qual       2930 non-null int64\n",
      "Overall Cond       2930 non-null int64\n",
      "Year Built         2930 non-null int64\n",
      "Year Remod/Add     2930 non-null int64\n",
      "Roof Style         2930 non-null object\n",
      "Roof Matl          2930 non-null object\n",
      "Exterior 1st       2930 non-null object\n",
      "Exterior 2nd       2930 non-null object\n",
      "Mas Vnr Area       2930 non-null float64\n",
      "Exter Qual         2930 non-null object\n",
      "Exter Cond         2930 non-null object\n",
      "Foundation         2930 non-null object\n",
      "BsmtFin SF 1       2930 non-null float64\n",
      "BsmtFin SF 2       2930 non-null float64\n",
      "Bsmt Unf SF        2930 non-null float64\n",
      "Total Bsmt SF      2930 non-null float64\n",
      "Heating            2930 non-null object\n",
      "Heating QC         2930 non-null object\n",
      "Central Air        2930 non-null object\n",
      "1st Flr SF         2930 non-null int64\n",
      "2nd Flr SF         2930 non-null int64\n",
      "Low Qual Fin SF    2930 non-null int64\n",
      "Gr Liv Area        2930 non-null int64\n",
      "Bsmt Full Bath     2930 non-null float64\n",
      "Bsmt Half Bath     2930 non-null float64\n",
      "Full Bath          2930 non-null int64\n",
      "Half Bath          2930 non-null int64\n",
      "Bedroom AbvGr      2930 non-null int64\n",
      "Kitchen AbvGr      2930 non-null int64\n",
      "Kitchen Qual       2930 non-null object\n",
      "TotRms AbvGrd      2930 non-null int64\n",
      "Functional         2930 non-null object\n",
      "Fireplaces         2930 non-null int64\n",
      "Garage Cars        2930 non-null float64\n",
      "Garage Area        2930 non-null float64\n",
      "Paved Drive        2930 non-null object\n",
      "Wood Deck SF       2930 non-null int64\n",
      "Open Porch SF      2930 non-null int64\n",
      "Enclosed Porch     2930 non-null int64\n",
      "3Ssn Porch         2930 non-null int64\n",
      "Screen Porch       2930 non-null int64\n",
      "Pool Area          2930 non-null int64\n",
      "Misc Val           2930 non-null int64\n",
      "Mo Sold            2930 non-null int64\n",
      "Yr Sold            2930 non-null int64\n",
      "Sale Type          2930 non-null object\n",
      "Sale Condition     2930 non-null object\n",
      "SalePrice          2930 non-null int64\n",
      "dtypes: float64(9), int64(28), object(27)\n",
      "memory usage: 1.4+ MB\n"
     ]
    }
   ],
   "source": [
    "text_cols_count = df.select_dtypes(include=['object']).isnull().sum()\n",
    "cols_to_remove = text_cols_count[text_cols_count > 0]\n",
    "df = df.drop(cols_to_remove.index, axis=1)\n",
    "df.info()"
   ]
  },
  {
   "cell_type": "markdown",
   "metadata": {},
   "source": [
    "Now we will create to new columns, to give us workable features from the years columns.\n",
    "The two features will be:\n",
    "1. Years Before Sale: number of years from buying to selling.\n",
    "2. Years Since Remod: number of years from remodeling to selling."
   ]
  },
  {
   "cell_type": "code",
   "execution_count": 108,
   "metadata": {
    "collapsed": false
   },
   "outputs": [
    {
     "name": "stdout",
     "output_type": "stream",
     "text": [
      "2180   -1\n",
      "dtype: int64\n",
      "1702   -1\n",
      "2180   -2\n",
      "2181   -1\n",
      "dtype: int64\n"
     ]
    }
   ],
   "source": [
    "years_sold = df['Yr Sold'] - df['Year Built']\n",
    "years_since_remod = df['Yr Sold'] - df['Year Remod/Add']\n",
    "print(years_sold[years_sold < 0])\n",
    "print(years_since_remod[years_since_remod < 0])"
   ]
  },
  {
   "cell_type": "code",
   "execution_count": 109,
   "metadata": {
    "collapsed": true
   },
   "outputs": [],
   "source": [
    "df['Years Before Sale'] = years_sold\n",
    "df['Years Since Remod'] = years_since_remod\n",
    "\n",
    "# drop rows with negative values\n",
    "df = df.drop([1702, 2180, 2181], axis = 0)\n",
    "\n",
    "# drop the unnecessary year columns\n",
    "df = df.drop(['Yr Sold', 'Year Built', 'Year Remod/Add'], axis = 1)"
   ]
  },
  {
   "cell_type": "markdown",
   "metadata": {},
   "source": [
    "Finally, we will drop columns that are not useful for our model, or that leak info about the sale."
   ]
  },
  {
   "cell_type": "code",
   "execution_count": 110,
   "metadata": {
    "collapsed": false
   },
   "outputs": [
    {
     "name": "stdout",
     "output_type": "stream",
     "text": [
      "<class 'pandas.core.frame.DataFrame'>\n",
      "Int64Index: 2927 entries, 0 to 2929\n",
      "Data columns (total 58 columns):\n",
      "MS SubClass          2927 non-null int64\n",
      "MS Zoning            2927 non-null object\n",
      "Lot Area             2927 non-null int64\n",
      "Street               2927 non-null object\n",
      "Lot Shape            2927 non-null object\n",
      "Land Contour         2927 non-null object\n",
      "Utilities            2927 non-null object\n",
      "Lot Config           2927 non-null object\n",
      "Land Slope           2927 non-null object\n",
      "Neighborhood         2927 non-null object\n",
      "Condition 1          2927 non-null object\n",
      "Condition 2          2927 non-null object\n",
      "Bldg Type            2927 non-null object\n",
      "House Style          2927 non-null object\n",
      "Overall Qual         2927 non-null int64\n",
      "Overall Cond         2927 non-null int64\n",
      "Roof Style           2927 non-null object\n",
      "Roof Matl            2927 non-null object\n",
      "Exterior 1st         2927 non-null object\n",
      "Exterior 2nd         2927 non-null object\n",
      "Mas Vnr Area         2927 non-null float64\n",
      "Exter Qual           2927 non-null object\n",
      "Exter Cond           2927 non-null object\n",
      "Foundation           2927 non-null object\n",
      "BsmtFin SF 1         2927 non-null float64\n",
      "BsmtFin SF 2         2927 non-null float64\n",
      "Bsmt Unf SF          2927 non-null float64\n",
      "Total Bsmt SF        2927 non-null float64\n",
      "Heating              2927 non-null object\n",
      "Heating QC           2927 non-null object\n",
      "Central Air          2927 non-null object\n",
      "1st Flr SF           2927 non-null int64\n",
      "2nd Flr SF           2927 non-null int64\n",
      "Low Qual Fin SF      2927 non-null int64\n",
      "Gr Liv Area          2927 non-null int64\n",
      "Bsmt Full Bath       2927 non-null float64\n",
      "Bsmt Half Bath       2927 non-null float64\n",
      "Full Bath            2927 non-null int64\n",
      "Half Bath            2927 non-null int64\n",
      "Bedroom AbvGr        2927 non-null int64\n",
      "Kitchen AbvGr        2927 non-null int64\n",
      "Kitchen Qual         2927 non-null object\n",
      "TotRms AbvGrd        2927 non-null int64\n",
      "Functional           2927 non-null object\n",
      "Fireplaces           2927 non-null int64\n",
      "Garage Cars          2927 non-null float64\n",
      "Garage Area          2927 non-null float64\n",
      "Paved Drive          2927 non-null object\n",
      "Wood Deck SF         2927 non-null int64\n",
      "Open Porch SF        2927 non-null int64\n",
      "Enclosed Porch       2927 non-null int64\n",
      "3Ssn Porch           2927 non-null int64\n",
      "Screen Porch         2927 non-null int64\n",
      "Pool Area            2927 non-null int64\n",
      "Misc Val             2927 non-null int64\n",
      "SalePrice            2927 non-null int64\n",
      "Years Before Sale    2927 non-null int64\n",
      "Years Since Remod    2927 non-null int64\n",
      "dtypes: float64(9), int64(24), object(25)\n",
      "memory usage: 1.3+ MB\n"
     ]
    }
   ],
   "source": [
    "df = df.drop([\"PID\", \"Order\", \"Mo Sold\", \"Sale Condition\", \"Sale Type\"], axis = 1)\n",
    "df.info()"
   ]
  },
  {
   "cell_type": "markdown",
   "metadata": {},
   "source": [
    "Let's update the transform_features function:"
   ]
  },
  {
   "cell_type": "code",
   "execution_count": 111,
   "metadata": {
    "collapsed": true
   },
   "outputs": [],
   "source": [
    "def transform_features(df):\n",
    "    # removing features with more than 5% missing values\n",
    "    num_missing = df.isnull().sum()\n",
    "    missing_cols = num_missing[num_missing > len(df)*0.05]\n",
    "    df = df.drop(missing_cols.index, axis=1)\n",
    "    \n",
    "    # For numerical columns, fill the missing values using the most popular value\n",
    "    num_missing = df.select_dtypes(include=['float', 'int']).isnull().sum()\n",
    "    cols_to_fix = num_missing[num_missing > 0]\n",
    "    mode_values_dict = df[cols_to_fix.index].mode().to_dict(orient='records')[0]\n",
    "    df = df.fillna(mode_values_dict)\n",
    "    \n",
    "    # drop text columns with any missing values\n",
    "    text_cols_count = df.select_dtypes(include=['object']).isnull().sum()\n",
    "    cols_to_remove = text_cols_count[text_cols_count > 0]\n",
    "    df = df.drop(cols_to_remove.index, axis=1)\n",
    "    \n",
    "    # Transform years' columns\n",
    "    years_sold = df['Yr Sold'] - df['Year Built']\n",
    "    years_since_remod = df['Yr Sold'] - df['Year Remod/Add']\n",
    "    df['Years Before Sale'] = years_sold\n",
    "    df['Years Since Remod'] = years_since_remod\n",
    "\n",
    "    # drop rows with negative values\n",
    "    df = df.drop([1702, 2180, 2181], axis = 0)\n",
    "\n",
    "    # drop the unnecessary year columns\n",
    "    df = df.drop(['Yr Sold', 'Year Built', 'Year Remod/Add'], axis = 1)\n",
    "    \n",
    "    # drop columns that are not useful for our model, or that leak info about the sale\n",
    "    df = df.drop([\"PID\", \"Order\", \"Mo Sold\", \"Sale Condition\", \"Sale Type\"], axis = 1)\n",
    "    \n",
    "    return df"
   ]
  },
  {
   "cell_type": "code",
   "execution_count": 112,
   "metadata": {
    "collapsed": false
   },
   "outputs": [
    {
     "data": {
      "text/plain": [
       "55275.36731241307"
      ]
     },
     "execution_count": 112,
     "metadata": {},
     "output_type": "execute_result"
    }
   ],
   "source": [
    "df = pd.read_csv('AmesHousing.tsv', sep='\\t')\n",
    "transformed_df = transform_features(df)\n",
    "filtered_df = select_features(transformed_df)\n",
    "rmse = train_and_test(filtered_df)\n",
    "\n",
    "rmse"
   ]
  },
  {
   "cell_type": "markdown",
   "metadata": {},
   "source": [
    "## Feature Selection\n",
    "\n",
    "### Selecting Numerical Features"
   ]
  },
  {
   "cell_type": "code",
   "execution_count": 113,
   "metadata": {
    "collapsed": false
   },
   "outputs": [
    {
     "name": "stdout",
     "output_type": "stream",
     "text": [
      "<class 'pandas.core.frame.DataFrame'>\n",
      "Int64Index: 2927 entries, 0 to 2929\n",
      "Data columns (total 33 columns):\n",
      "MS SubClass          2927 non-null int64\n",
      "Lot Area             2927 non-null int64\n",
      "Overall Qual         2927 non-null int64\n",
      "Overall Cond         2927 non-null int64\n",
      "Mas Vnr Area         2927 non-null float64\n",
      "BsmtFin SF 1         2927 non-null float64\n",
      "BsmtFin SF 2         2927 non-null float64\n",
      "Bsmt Unf SF          2927 non-null float64\n",
      "Total Bsmt SF        2927 non-null float64\n",
      "1st Flr SF           2927 non-null int64\n",
      "2nd Flr SF           2927 non-null int64\n",
      "Low Qual Fin SF      2927 non-null int64\n",
      "Gr Liv Area          2927 non-null int64\n",
      "Bsmt Full Bath       2927 non-null float64\n",
      "Bsmt Half Bath       2927 non-null float64\n",
      "Full Bath            2927 non-null int64\n",
      "Half Bath            2927 non-null int64\n",
      "Bedroom AbvGr        2927 non-null int64\n",
      "Kitchen AbvGr        2927 non-null int64\n",
      "TotRms AbvGrd        2927 non-null int64\n",
      "Fireplaces           2927 non-null int64\n",
      "Garage Cars          2927 non-null float64\n",
      "Garage Area          2927 non-null float64\n",
      "Wood Deck SF         2927 non-null int64\n",
      "Open Porch SF        2927 non-null int64\n",
      "Enclosed Porch       2927 non-null int64\n",
      "3Ssn Porch           2927 non-null int64\n",
      "Screen Porch         2927 non-null int64\n",
      "Pool Area            2927 non-null int64\n",
      "Misc Val             2927 non-null int64\n",
      "SalePrice            2927 non-null int64\n",
      "Years Before Sale    2927 non-null int64\n",
      "Years Since Remod    2927 non-null int64\n",
      "dtypes: float64(9), int64(24)\n",
      "memory usage: 777.5 KB\n"
     ]
    }
   ],
   "source": [
    "numerical_df = transformed_df.select_dtypes(include=['float', 'int'])\n",
    "numerical_df.info()"
   ]
  },
  {
   "cell_type": "code",
   "execution_count": 114,
   "metadata": {
    "collapsed": false
   },
   "outputs": [
    {
     "data": {
      "text/plain": [
       "BsmtFin SF 2         0.006127\n",
       "Misc Val             0.019273\n",
       "3Ssn Porch           0.032268\n",
       "Bsmt Half Bath       0.035875\n",
       "Low Qual Fin SF      0.037629\n",
       "Pool Area            0.068438\n",
       "MS SubClass          0.085128\n",
       "Overall Cond         0.101540\n",
       "Screen Porch         0.112280\n",
       "Kitchen AbvGr        0.119760\n",
       "Enclosed Porch       0.128685\n",
       "Bedroom AbvGr        0.143916\n",
       "Bsmt Unf SF          0.182751\n",
       "Lot Area             0.267520\n",
       "2nd Flr SF           0.269601\n",
       "Bsmt Full Bath       0.276258\n",
       "Half Bath            0.284871\n",
       "Open Porch SF        0.316262\n",
       "Wood Deck SF         0.328183\n",
       "BsmtFin SF 1         0.439284\n",
       "Fireplaces           0.474831\n",
       "TotRms AbvGrd        0.498574\n",
       "Mas Vnr Area         0.506983\n",
       "Years Since Remod    0.534985\n",
       "Full Bath            0.546118\n",
       "Years Before Sale    0.558979\n",
       "1st Flr SF           0.635185\n",
       "Garage Area          0.641425\n",
       "Total Bsmt SF        0.644012\n",
       "Garage Cars          0.648361\n",
       "Gr Liv Area          0.717596\n",
       "Overall Qual         0.801206\n",
       "SalePrice            1.000000\n",
       "Name: SalePrice, dtype: float64"
      ]
     },
     "execution_count": 114,
     "metadata": {},
     "output_type": "execute_result"
    }
   ],
   "source": [
    "abs_corr_coeffs = numerical_df.corr()['SalePrice'].abs().sort_values()\n",
    "abs_corr_coeffs"
   ]
  },
  {
   "cell_type": "markdown",
   "metadata": {},
   "source": [
    "We will take only the features with a correlation coefficient of at least 0.4. This threshold can be changed."
   ]
  },
  {
   "cell_type": "code",
   "execution_count": 115,
   "metadata": {
    "collapsed": false
   },
   "outputs": [
    {
     "data": {
      "text/plain": [
       "BsmtFin SF 2       0.006127\n",
       "Misc Val           0.019273\n",
       "3Ssn Porch         0.032268\n",
       "Bsmt Half Bath     0.035875\n",
       "Low Qual Fin SF    0.037629\n",
       "Pool Area          0.068438\n",
       "MS SubClass        0.085128\n",
       "Overall Cond       0.101540\n",
       "Screen Porch       0.112280\n",
       "Kitchen AbvGr      0.119760\n",
       "Enclosed Porch     0.128685\n",
       "Bedroom AbvGr      0.143916\n",
       "Bsmt Unf SF        0.182751\n",
       "Lot Area           0.267520\n",
       "2nd Flr SF         0.269601\n",
       "Bsmt Full Bath     0.276258\n",
       "Half Bath          0.284871\n",
       "Open Porch SF      0.316262\n",
       "Wood Deck SF       0.328183\n",
       "Name: SalePrice, dtype: float64"
      ]
     },
     "execution_count": 115,
     "metadata": {},
     "output_type": "execute_result"
    }
   ],
   "source": [
    "abs_corr_coeffs_to_drop = abs_corr_coeffs[abs_corr_coeffs < 0.4]\n",
    "abs_corr_coeffs_to_drop"
   ]
  },
  {
   "cell_type": "code",
   "execution_count": 116,
   "metadata": {
    "collapsed": false
   },
   "outputs": [
    {
     "name": "stdout",
     "output_type": "stream",
     "text": [
      "<class 'pandas.core.frame.DataFrame'>\n",
      "Int64Index: 2927 entries, 0 to 2929\n",
      "Data columns (total 39 columns):\n",
      "MS Zoning            2927 non-null object\n",
      "Street               2927 non-null object\n",
      "Lot Shape            2927 non-null object\n",
      "Land Contour         2927 non-null object\n",
      "Utilities            2927 non-null object\n",
      "Lot Config           2927 non-null object\n",
      "Land Slope           2927 non-null object\n",
      "Neighborhood         2927 non-null object\n",
      "Condition 1          2927 non-null object\n",
      "Condition 2          2927 non-null object\n",
      "Bldg Type            2927 non-null object\n",
      "House Style          2927 non-null object\n",
      "Overall Qual         2927 non-null int64\n",
      "Roof Style           2927 non-null object\n",
      "Roof Matl            2927 non-null object\n",
      "Exterior 1st         2927 non-null object\n",
      "Exterior 2nd         2927 non-null object\n",
      "Mas Vnr Area         2927 non-null float64\n",
      "Exter Qual           2927 non-null object\n",
      "Exter Cond           2927 non-null object\n",
      "Foundation           2927 non-null object\n",
      "BsmtFin SF 1         2927 non-null float64\n",
      "Total Bsmt SF        2927 non-null float64\n",
      "Heating              2927 non-null object\n",
      "Heating QC           2927 non-null object\n",
      "Central Air          2927 non-null object\n",
      "1st Flr SF           2927 non-null int64\n",
      "Gr Liv Area          2927 non-null int64\n",
      "Full Bath            2927 non-null int64\n",
      "Kitchen Qual         2927 non-null object\n",
      "TotRms AbvGrd        2927 non-null int64\n",
      "Functional           2927 non-null object\n",
      "Fireplaces           2927 non-null int64\n",
      "Garage Cars          2927 non-null float64\n",
      "Garage Area          2927 non-null float64\n",
      "Paved Drive          2927 non-null object\n",
      "SalePrice            2927 non-null int64\n",
      "Years Before Sale    2927 non-null int64\n",
      "Years Since Remod    2927 non-null int64\n",
      "dtypes: float64(5), int64(9), object(25)\n",
      "memory usage: 914.7+ KB\n"
     ]
    }
   ],
   "source": [
    "transformed_df = transformed_df.drop(abs_corr_coeffs_to_drop.index, axis = 1)\n",
    "transformed_df.info()"
   ]
  },
  {
   "cell_type": "markdown",
   "metadata": {},
   "source": [
    "### Selecting Categorical Features"
   ]
  },
  {
   "cell_type": "code",
   "execution_count": 117,
   "metadata": {
    "collapsed": false
   },
   "outputs": [
    {
     "name": "stdout",
     "output_type": "stream",
     "text": [
      "<class 'pandas.core.frame.DataFrame'>\n",
      "Int64Index: 2927 entries, 0 to 2929\n",
      "Data columns (total 25 columns):\n",
      "MS Zoning       2927 non-null object\n",
      "Street          2927 non-null object\n",
      "Lot Shape       2927 non-null object\n",
      "Land Contour    2927 non-null object\n",
      "Utilities       2927 non-null object\n",
      "Lot Config      2927 non-null object\n",
      "Land Slope      2927 non-null object\n",
      "Neighborhood    2927 non-null object\n",
      "Condition 1     2927 non-null object\n",
      "Condition 2     2927 non-null object\n",
      "Bldg Type       2927 non-null object\n",
      "House Style     2927 non-null object\n",
      "Roof Style      2927 non-null object\n",
      "Roof Matl       2927 non-null object\n",
      "Exterior 1st    2927 non-null object\n",
      "Exterior 2nd    2927 non-null object\n",
      "Exter Qual      2927 non-null object\n",
      "Exter Cond      2927 non-null object\n",
      "Foundation      2927 non-null object\n",
      "Heating         2927 non-null object\n",
      "Heating QC      2927 non-null object\n",
      "Central Air     2927 non-null object\n",
      "Kitchen Qual    2927 non-null object\n",
      "Functional      2927 non-null object\n",
      "Paved Drive     2927 non-null object\n",
      "dtypes: object(25)\n",
      "memory usage: 594.5+ KB\n"
     ]
    }
   ],
   "source": [
    "cat_df = transformed_df.select_dtypes(exclude=['float', 'int'])\n",
    "cat_df.info()"
   ]
  },
  {
   "cell_type": "markdown",
   "metadata": {},
   "source": [
    "We will keep categorical columns with less than 10 unique values. That's because we will create dummy columns with those values, and we can't allow for more unique values or the df will get too big."
   ]
  },
  {
   "cell_type": "code",
   "execution_count": 118,
   "metadata": {
    "collapsed": false
   },
   "outputs": [
    {
     "data": {
      "text/plain": [
       "Street           2\n",
       "Central Air      2\n",
       "Paved Drive      3\n",
       "Utilities        3\n",
       "Land Slope       3\n",
       "Lot Shape        4\n",
       "Land Contour     4\n",
       "Exter Qual       4\n",
       "Lot Config       5\n",
       "Kitchen Qual     5\n",
       "Heating QC       5\n",
       "Bldg Type        5\n",
       "Exter Cond       5\n",
       "Heating          6\n",
       "Foundation       6\n",
       "Roof Style       6\n",
       "MS Zoning        7\n",
       "Roof Matl        8\n",
       "Functional       8\n",
       "House Style      8\n",
       "Condition 2      8\n",
       "Condition 1      9\n",
       "Exterior 1st    16\n",
       "Exterior 2nd    17\n",
       "Neighborhood    28\n",
       "dtype: int64"
      ]
     },
     "execution_count": 118,
     "metadata": {},
     "output_type": "execute_result"
    }
   ],
   "source": [
    "## How many unique values in each categorical column?\n",
    "uniq_counts = cat_df.apply(lambda col : len(col.value_counts())).sort_values()\n",
    "uniq_counts"
   ]
  },
  {
   "cell_type": "code",
   "execution_count": 119,
   "metadata": {
    "collapsed": false
   },
   "outputs": [],
   "source": [
    "uniq_counts_to_drop = uniq_counts[uniq_counts > 10]\n",
    "tranformed_df = transformed_df.drop(uniq_counts_to_drop.index, axis = 1)"
   ]
  },
  {
   "cell_type": "markdown",
   "metadata": {},
   "source": [
    "Next, we will check the variance within each categorical column. Features that contain over 95% only one value will be eliminated. This threshold can be played with."
   ]
  },
  {
   "cell_type": "code",
   "execution_count": 120,
   "metadata": {
    "collapsed": false
   },
   "outputs": [
    {
     "name": "stdout",
     "output_type": "stream",
     "text": [
      "RL         77.553809\n",
      "RM         15.784079\n",
      "FV          4.748890\n",
      "RH          0.922446\n",
      "C (all)     0.854117\n",
      "A (agr)     0.068329\n",
      "I (all)     0.068329\n",
      "Name: MS Zoning, dtype: float64\n",
      "Pave    99.590024\n",
      "Grvl     0.409976\n",
      "Name: Street, dtype: float64\n",
      "Reg    63.512128\n",
      "IR1    33.344722\n",
      "IR2     2.596515\n",
      "IR3     0.546635\n",
      "Name: Lot Shape, dtype: float64\n",
      "Lvl    89.921421\n",
      "HLS     4.099761\n",
      "Bnk     3.928937\n",
      "Low     2.049880\n",
      "Name: Land Contour, dtype: float64\n",
      "AllPub    99.897506\n",
      "NoSewr     0.068329\n",
      "NoSeWa     0.034165\n",
      "Name: Utilities, dtype: float64\n",
      "Inside     73.044072\n",
      "Corner     17.423984\n",
      "CulDSac     6.149641\n",
      "FR2         2.903997\n",
      "FR3         0.478305\n",
      "Name: Lot Config, dtype: float64\n",
      "Gtl    95.182781\n",
      "Mod     4.270584\n",
      "Sev     0.546635\n",
      "Name: Land Slope, dtype: float64\n",
      "NAmes      15.134950\n",
      "CollgCr     9.121968\n",
      "OldTown     8.165357\n",
      "Edwards     6.559617\n",
      "Somerst     6.217971\n",
      "NridgHt     5.637171\n",
      "Gilbert     5.637171\n",
      "Sawyer      5.158866\n",
      "NWAmes      4.475572\n",
      "SawyerW     4.270584\n",
      "Mitchel     3.894773\n",
      "BrkSide     3.689785\n",
      "Crawfor     3.518961\n",
      "IDOTRR      3.177315\n",
      "Timber      2.459857\n",
      "NoRidge     2.425692\n",
      "StoneBr     1.742398\n",
      "SWISU       1.639904\n",
      "ClearCr     1.503246\n",
      "MeadowV     1.264093\n",
      "BrDale      1.024940\n",
      "Blmngtn     0.956611\n",
      "Veenker     0.819952\n",
      "NPkVill     0.785787\n",
      "Blueste     0.341647\n",
      "Greens      0.273317\n",
      "GrnHill     0.068329\n",
      "Landmrk     0.034165\n",
      "Name: Neighborhood, dtype: float64\n",
      "Norm      86.094978\n",
      "Feedr      5.603006\n",
      "Artery     3.143150\n",
      "RRAn       1.708234\n",
      "PosN       1.298258\n",
      "RRAe       0.956611\n",
      "PosA       0.683293\n",
      "RRNn       0.307482\n",
      "RRNe       0.204988\n",
      "Name: Condition 1, dtype: float64\n",
      "Norm      99.009224\n",
      "Feedr      0.444141\n",
      "Artery     0.170823\n",
      "PosA       0.136659\n",
      "PosN       0.102494\n",
      "RRNn       0.068329\n",
      "RRAe       0.034165\n",
      "RRAn       0.034165\n",
      "Name: Condition 2, dtype: float64\n",
      "1Fam      82.746840\n",
      "TwnhsE     7.960369\n",
      "Duplex     3.723949\n",
      "Twnhs      3.450632\n",
      "2fmCon     2.118210\n",
      "Name: Bldg Type, dtype: float64\n",
      "1Story    50.563717\n",
      "2Story    29.757431\n",
      "1.5Fin    10.727708\n",
      "SLvl       4.373078\n",
      "SFoyer     2.835668\n",
      "2.5Unf     0.819952\n",
      "1.5Unf     0.649129\n",
      "2.5Fin     0.273317\n",
      "Name: House Style, dtype: float64\n",
      "Gable      79.262043\n",
      "Hip        18.756406\n",
      "Gambrel     0.751623\n",
      "Flat        0.683293\n",
      "Mansard     0.375811\n",
      "Shed        0.170823\n",
      "Name: Roof Style, dtype: float64\n",
      "CompShg    98.530919\n",
      "Tar&Grv     0.785787\n",
      "WdShake     0.307482\n",
      "WdShngl     0.239153\n",
      "Metal       0.034165\n",
      "Membran     0.034165\n",
      "ClyTile     0.034165\n",
      "Roll        0.034165\n",
      "Name: Roof Matl, dtype: float64\n",
      "VinylSd    35.018791\n",
      "MetalSd    15.374103\n",
      "HdBoard    15.100786\n",
      "Wd Sdng    14.349163\n",
      "Plywood     7.550393\n",
      "CemntBd     4.236420\n",
      "BrkFace     3.006491\n",
      "WdShing     1.913222\n",
      "AsbShng     1.503246\n",
      "Stucco      1.469081\n",
      "BrkComm     0.204988\n",
      "AsphShn     0.068329\n",
      "Stone       0.068329\n",
      "CBlock      0.068329\n",
      "ImStucc     0.034165\n",
      "PreCast     0.034165\n",
      "Name: Exterior 1st, dtype: float64\n",
      "VinylSd    34.642979\n",
      "MetalSd    15.271609\n",
      "HdBoard    13.870858\n",
      "Wd Sdng    13.563375\n",
      "Plywood     9.361121\n",
      "CmentBd     4.236420\n",
      "Wd Shng     2.767339\n",
      "Stucco      1.605740\n",
      "BrkFace     1.605740\n",
      "AsbShng     1.298258\n",
      "Brk Cmn     0.751623\n",
      "ImStucc     0.512470\n",
      "Stone       0.204988\n",
      "AsphShn     0.136659\n",
      "CBlock      0.102494\n",
      "PreCast     0.034165\n",
      "Other       0.034165\n",
      "Name: Exterior 2nd, dtype: float64\n",
      "TA    61.462248\n",
      "Gd    33.754698\n",
      "Ex     3.587291\n",
      "Fa     1.195764\n",
      "Name: Exter Qual, dtype: float64\n",
      "TA    86.983259\n",
      "Gd    10.215237\n",
      "Fa     2.289033\n",
      "Ex     0.409976\n",
      "Po     0.102494\n",
      "Name: Exter Cond, dtype: float64\n",
      "PConc     44.653229\n",
      "CBlock    42.500854\n",
      "BrkTil    10.625214\n",
      "Slab       1.674069\n",
      "Stone      0.375811\n",
      "Wood       0.170823\n",
      "Name: Foundation, dtype: float64\n",
      "GasA     98.462590\n",
      "GasW      0.922446\n",
      "Grav      0.307482\n",
      "Wall      0.204988\n",
      "OthW      0.068329\n",
      "Floor     0.034165\n",
      "Name: Heating, dtype: float64\n",
      "Ex    50.973693\n",
      "TA    29.518278\n",
      "Gd    16.262385\n",
      "Fa     3.143150\n",
      "Po     0.102494\n",
      "Name: Heating QC, dtype: float64\n",
      "Y    93.303724\n",
      "N     6.696276\n",
      "Name: Central Air, dtype: float64\n",
      "TA    51.042023\n",
      "Gd    39.596857\n",
      "Ex     6.935429\n",
      "Fa     2.391527\n",
      "Po     0.034165\n",
      "Name: Kitchen Qual, dtype: float64\n",
      "Typ     93.098736\n",
      "Min2     2.391527\n",
      "Min1     2.220704\n",
      "Mod      1.195764\n",
      "Maj1     0.649129\n",
      "Maj2     0.307482\n",
      "Sal      0.068329\n",
      "Sev      0.068329\n",
      "Name: Functional, dtype: float64\n",
      "Y    90.502221\n",
      "N     7.379570\n",
      "P     2.118210\n",
      "Name: Paved Drive, dtype: float64\n"
     ]
    },
    {
     "data": {
      "text/plain": [
       "['Street', 'Utilities', 'Land Slope', 'Condition 2', 'Roof Matl', 'Heating']"
      ]
     },
     "execution_count": 120,
     "metadata": {},
     "output_type": "execute_result"
    }
   ],
   "source": [
    "# Viewing the frequency of values in each feature\n",
    "cat_df = transformed_df.select_dtypes(exclude=['float', 'int'])\n",
    "cols_to_drop = []\n",
    "for col in cat_df:\n",
    "    value_counts_series = cat_df[col].value_counts()*100/len(cat_df)\n",
    "    print(value_counts_series)\n",
    "    if value_counts_series.max() > 95:\n",
    "        cols_to_drop.append(col)\n",
    "\n",
    "cols_to_drop\n",
    "    "
   ]
  },
  {
   "cell_type": "code",
   "execution_count": 121,
   "metadata": {
    "collapsed": false
   },
   "outputs": [
    {
     "name": "stdout",
     "output_type": "stream",
     "text": [
      "<class 'pandas.core.frame.DataFrame'>\n",
      "Int64Index: 2927 entries, 0 to 2929\n",
      "Data columns (total 33 columns):\n",
      "MS Zoning            2927 non-null object\n",
      "Lot Shape            2927 non-null object\n",
      "Land Contour         2927 non-null object\n",
      "Lot Config           2927 non-null object\n",
      "Neighborhood         2927 non-null object\n",
      "Condition 1          2927 non-null object\n",
      "Bldg Type            2927 non-null object\n",
      "House Style          2927 non-null object\n",
      "Overall Qual         2927 non-null int64\n",
      "Roof Style           2927 non-null object\n",
      "Exterior 1st         2927 non-null object\n",
      "Exterior 2nd         2927 non-null object\n",
      "Mas Vnr Area         2927 non-null float64\n",
      "Exter Qual           2927 non-null object\n",
      "Exter Cond           2927 non-null object\n",
      "Foundation           2927 non-null object\n",
      "BsmtFin SF 1         2927 non-null float64\n",
      "Total Bsmt SF        2927 non-null float64\n",
      "Heating QC           2927 non-null object\n",
      "Central Air          2927 non-null object\n",
      "1st Flr SF           2927 non-null int64\n",
      "Gr Liv Area          2927 non-null int64\n",
      "Full Bath            2927 non-null int64\n",
      "Kitchen Qual         2927 non-null object\n",
      "TotRms AbvGrd        2927 non-null int64\n",
      "Functional           2927 non-null object\n",
      "Fireplaces           2927 non-null int64\n",
      "Garage Cars          2927 non-null float64\n",
      "Garage Area          2927 non-null float64\n",
      "Paved Drive          2927 non-null object\n",
      "SalePrice            2927 non-null int64\n",
      "Years Before Sale    2927 non-null int64\n",
      "Years Since Remod    2927 non-null int64\n",
      "dtypes: float64(5), int64(9), object(19)\n",
      "memory usage: 777.5+ KB\n"
     ]
    }
   ],
   "source": [
    "transformed_df = transformed_df.drop(cols_to_drop, axis = 1)\n",
    "transformed_df.info()"
   ]
  },
  {
   "cell_type": "code",
   "execution_count": 122,
   "metadata": {
    "collapsed": false
   },
   "outputs": [
    {
     "name": "stdout",
     "output_type": "stream",
     "text": [
      "<class 'pandas.core.frame.DataFrame'>\n",
      "Int64Index: 2927 entries, 0 to 2929\n",
      "Columns: 180 entries, MS Zoning to Paved Drive_Y\n",
      "dtypes: category(19), float64(5), int64(9), uint8(147)\n",
      "memory usage: 824.1 KB\n"
     ]
    }
   ],
   "source": [
    "# transform the remaining to categorical\n",
    "cat_df = transformed_df.select_dtypes(exclude=['float', 'int'])\n",
    "for col in cat_df:\n",
    "    transformed_df[col] = transformed_df[col].astype('category')\n",
    "    \n",
    "cat_cols = transformed_df.select_dtypes(include=['category'])\n",
    "dummies = pd.get_dummies(cat_cols)\n",
    "transformed_df = pd.concat([transformed_df, dummies], axis = 1)\n",
    "transformed_df.drop(cat_df, axis = 1)\n",
    "transformed_df.info()"
   ]
  },
  {
   "cell_type": "markdown",
   "metadata": {},
   "source": [
    "The updated select_features function:"
   ]
  },
  {
   "cell_type": "code",
   "execution_count": 123,
   "metadata": {
    "collapsed": true
   },
   "outputs": [],
   "source": [
    "def select_features(df, coeff_threshold=0.4, uniq_threshold=10, variance_threshold = 95):\n",
    "    \n",
    "    # Selecting numerical values\n",
    "    \n",
    "    numerical_df = df.select_dtypes(include=['float', 'int'])\n",
    "    abs_corr_coeffs = numerical_df.corr()['SalePrice'].abs().sort_values()\n",
    "    abs_corr_coeffs_to_drop = abs_corr_coeffs[abs_corr_coeffs < coeff_threshold]\n",
    "    df = df.drop(abs_corr_coeffs_to_drop.index, axis = 1)\n",
    "    \n",
    "    # Selecting categorical values\n",
    "    \n",
    "    cat_df = df.select_dtypes(exclude=['float', 'int'])\n",
    "    ## Removing features with too many unique values\n",
    "    uniq_counts = cat_df.apply(lambda col : len(col.value_counts())).sort_values()\n",
    "    uniq_counts_to_drop = uniq_counts[uniq_counts > uniq_threshold]\n",
    "    df = df.drop(uniq_counts_to_drop.index, axis = 1)\n",
    "    \n",
    "    ## Removing low variance features\n",
    "    cat_df = df.select_dtypes(exclude=['float', 'int'])\n",
    "    cols_to_drop = []\n",
    "    for col in cat_df:\n",
    "        value_counts_series = cat_df[col].value_counts()*100/len(cat_df)\n",
    "        if value_counts_series.max() > variance_threshold:\n",
    "            cols_to_drop.append(col)\n",
    "    df = df.drop(cols_to_drop, axis = 1)\n",
    "    \n",
    "    ## transform the remaining to categorical\n",
    "    cat_df = df.select_dtypes(exclude=['float', 'int'])\n",
    "    for col in cat_df:\n",
    "        df[col] = df[col].astype('category')\n",
    "\n",
    "    cat_cols = df.select_dtypes(include=['category'])\n",
    "    dummies = pd.get_dummies(cat_cols)\n",
    "    df = pd.concat([df, dummies], axis = 1)\n",
    "    df = df.drop(cat_df, axis = 1)\n",
    "    \n",
    "    return df"
   ]
  },
  {
   "cell_type": "code",
   "execution_count": 124,
   "metadata": {
    "collapsed": false
   },
   "outputs": [
    {
     "data": {
      "text/plain": [
       "32898.32757496498"
      ]
     },
     "execution_count": 124,
     "metadata": {},
     "output_type": "execute_result"
    }
   ],
   "source": [
    "df = pd.read_csv('AmesHousing.tsv', sep='\\t')\n",
    "transformed_df = transform_features(df)\n",
    "filtered_df = select_features(transformed_df)\n",
    "rmse = train_and_test(filtered_df)\n",
    "\n",
    "rmse"
   ]
  },
  {
   "cell_type": "markdown",
   "metadata": {},
   "source": [
    "## Train and Test\n",
    "\n",
    "We will implement k-fold cross validation for our train and test function."
   ]
  },
  {
   "cell_type": "code",
   "execution_count": 125,
   "metadata": {
    "collapsed": true
   },
   "outputs": [],
   "source": [
    "from sklearn.model_selection import KFold\n",
    "\n",
    "def train_and_test(df, k):\n",
    "    \n",
    "    features = df.columns.drop('SalePrice')\n",
    "    target = 'SalePrice'\n",
    "    lr = linear_model.LinearRegression()\n",
    "    \n",
    "    if k == 0:\n",
    "        train = df[:1460]\n",
    "        test = df[1460:]\n",
    "        lr.fit(train[features], train[target])\n",
    "        predictions = lr.predict(test[features])\n",
    "        mse = mean_squared_error(test[target], predictions)\n",
    "        rmse = np.sqrt(mse)\n",
    "        return rmse\n",
    "    else:\n",
    "        if k == 1:\n",
    "            k = 2\n",
    "        kf = KFold(n_splits=k, shuffle=True)\n",
    "        rmse_values = []\n",
    "        for train_index, test_index in kf.split(df):\n",
    "            train = df.iloc[train_index]\n",
    "            test = df.iloc[test_index]\n",
    "            lr.fit(train[features], train[target])\n",
    "            predictions = lr.predict(test[features])\n",
    "            mse = mean_squared_error(test[target], predictions)\n",
    "            rmse = np.sqrt(mse)\n",
    "            rmse_values.append(rmse)\n",
    "        print(rmse_values)\n",
    "        avg_rmse = np.mean(rmse_values)\n",
    "        return avg_rmse\n",
    "    "
   ]
  },
  {
   "cell_type": "markdown",
   "metadata": {},
   "source": [
    "Finally, let's test with different k-folds:"
   ]
  },
  {
   "cell_type": "code",
   "execution_count": 126,
   "metadata": {
    "collapsed": false
   },
   "outputs": [
    {
     "name": "stdout",
     "output_type": "stream",
     "text": [
      "[27482.419247208974, 31917.703060931104]\n",
      "[32848.451938427264, 27579.98837096697]\n",
      "[26591.360381821054, 34690.38554893802, 27140.810226743422]\n",
      "[35784.52642854993, 26842.65934229374, 29233.178447805156, 26912.44188952987]\n",
      "[40795.72209363751, 26127.265242283647, 28342.575319071642, 23469.35882047983, 24746.130419525496]\n",
      "[27133.655439446575, 39158.78127052143, 29518.930376465752, 27999.578286461267, 27999.831947833147, 24115.251953568855]\n",
      "[33044.075072244304, 25006.80152689201, 27777.376516920394, 23595.94779115682, 42092.19532230076, 25308.87871030635, 26524.094748859698]\n",
      "[24469.515994849335, 28311.018208332593, 24364.81390127738, 27515.12575015126, 30474.23406402961, 26105.737639106726, 43300.876403203954, 28878.957543692493]\n",
      "[22131.41767274007, 28272.371395664533, 24967.933554618066, 29566.521234649226, 26580.889002349202, 46854.941909875924, 23418.857362407674, 30584.139490519992, 24886.782108536652]\n",
      "[49821.18749377499, 27393.441374772, 24560.81295426407, 26345.81697525619, 28376.957301233047, 23968.626593059373, 24154.424141959786, 29125.30499912333, 27936.21827193343, 25370.835269537958]\n"
     ]
    },
    {
     "data": {
      "text/plain": [
       "<matplotlib.figure.Figure at 0x7f9fccfa3a90>"
      ]
     },
     "metadata": {},
     "output_type": "display_data"
    }
   ],
   "source": [
    "df = pd.read_csv('AmesHousing.tsv', sep='\\t')\n",
    "transformed_df = transform_features(df)\n",
    "filtered_df = select_features(transformed_df)\n",
    "k_rmses = []\n",
    "for k in range(0, 11):\n",
    "    rmse = train_and_test(filtered_df, k)\n",
    "    k_rmses.append(rmse)\n"
   ]
  },
  {
   "cell_type": "code",
   "execution_count": 138,
   "metadata": {
    "collapsed": false
   },
   "outputs": [
    {
     "data": {
      "image/png": "[encoded data removed]",
      "text/plain": [
       "<matplotlib.figure.Figure at 0x7f9fccd25cc0>"
      ]
     },
     "metadata": {},
     "output_type": "display_data"
    },
    {
     "name": "stdout",
     "output_type": "stream",
     "text": [
      "Minimum RMSE: 28584.872636817927 , K-Fold value: 9\n"
     ]
    }
   ],
   "source": [
    "%matplotlib inline\n",
    "\n",
    "x=list(range(0, 11))\n",
    "plt.plot(x, k_rmses)\n",
    "plt.show()\n",
    "min_rmse = min(k_rmses)\n",
    "min_k = k_rmses.index(min_rmse)\n",
    "print(\"Minimum RMSE:\", min_rmse, \", K-Fold value:\", min_k)"
   ]
  }
 ],
 "metadata": {
  "anaconda-cloud": {},
  "kernelspec": {
   "display_name": "Python 3",
   "language": "python",
   "name": "python3"
  },
  "language_info": {
   "codemirror_mode": {
    "name": "ipython",
    "version": 3
   },
   "file_extension": ".py",
   "mimetype": "text/x-python",
   "name": "python",
   "nbconvert_exporter": "python",
   "pygments_lexer": "ipython3",
   "version": "3.4.3"
  }
 },
 "nbformat": 4,
 "nbformat_minor": 2
}
